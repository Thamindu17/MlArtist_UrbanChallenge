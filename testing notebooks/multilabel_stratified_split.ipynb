{
 "cells": [
  {
   "cell_type": "markdown",
   "id": "74fb888a",
   "metadata": {},
   "source": [
    "\n",
    "# Multi-label Stratified Split (80/10/10)\n",
    "\n",
    "**What this notebook does (simple):**\n",
    "- Reads `labels/dataset.csv` (one row per image, 0/1 columns per label).\n",
    "- Uses **iterative stratification** to preserve label balance across Train/Val/Test.\n",
    "- Saves `labels/splits/train.csv`, `val.csv`, `test.csv`.\n",
    "\n",
    "> Run this from your project root where `labels/dataset.csv` exists.\n"
   ]
  },
  {
   "cell_type": "code",
   "execution_count": null,
   "id": "fb623258",
   "metadata": {},
   "outputs": [],
   "source": [
    "\n",
    "# 1) Install dependencies (run once)\n",
    "# If you already have these, you can skip this cell.\n",
    "%pip install iterative-stratification pandas\n"
   ]
  },
  {
   "cell_type": "code",
   "execution_count": 1,
   "id": "4b44aac2",
   "metadata": {},
   "outputs": [
    {
     "data": {
      "text/plain": [
       "(120, 15, 16)"
      ]
     },
     "execution_count": 1,
     "metadata": {},
     "output_type": "execute_result"
    }
   ],
   "source": [
    "\n",
    "# 2) Do the stratified split\n",
    "from pathlib import Path\n",
    "import pandas as pd\n",
    "from iterstrat.ml_stratifiers import MultilabelStratifiedShuffleSplit\n",
    "\n",
    "CSV = Path(\"labels/dataset.csv\")\n",
    "OUT = Path(\"labels/splits\")\n",
    "OUT.mkdir(parents=True, exist_ok=True)\n",
    "\n",
    "# Adjust ratios if you want\n",
    "SPLITS = {\"train\": 0.80, \"val\": 0.10, \"test\": 0.10}\n",
    "\n",
    "df = pd.read_csv(CSV)\n",
    "label_cols = [c for c in df.columns if c != \"path\"]\n",
    "X = df[[\"path\"]].values\n",
    "Y = df[label_cols].values\n",
    "\n",
    "# 1) Train vs (Val+Test)\n",
    "m1 = MultilabelStratifiedShuffleSplit(n_splits=1, test_size=1 - SPLITS[\"train\"], random_state=42)\n",
    "tr_idx, tmp_idx = next(m1.split(X, Y))\n",
    "df_tr, df_tmp = df.iloc[tr_idx], df.iloc[tmp_idx]\n",
    "\n",
    "# 2) Val vs Test from temp\n",
    "val_ratio = SPLITS[\"val\"] / (SPLITS[\"val\"] + SPLITS[\"test\"])\n",
    "m2 = MultilabelStratifiedShuffleSplit(n_splits=1, test_size=1 - val_ratio, random_state=43)\n",
    "v_idx, te_idx = next(m2.split(df_tmp[[\"path\"]].values, df_tmp[label_cols].values))\n",
    "df_val, df_test = df_tmp.iloc[v_idx], df_tmp.iloc[te_idx]\n",
    "\n",
    "df_tr.to_csv(OUT / \"train.csv\", index=False)\n",
    "df_val.to_csv(OUT / \"val.csv\", index=False)\n",
    "df_test.to_csv(OUT / \"test.csv\", index=False)\n",
    "\n",
    "len(df_tr), len(df_val), len(df_test)\n"
   ]
  },
  {
   "cell_type": "code",
   "execution_count": 2,
   "id": "8fdc8fc4",
   "metadata": {},
   "outputs": [
    {
     "name": "stdout",
     "output_type": "stream",
     "text": [
      "\n",
      "=== TRAIN (120) ===\n",
      "Littering / Garbage         68\n",
      "Damaged Road Surface        29\n",
      "Illegal Parking             22\n",
      "Pothole                     13\n",
      "None of the above            1\n",
      "Broken/Damaged Road Sign     0\n",
      "Vandalism / Graffiti         0\n",
      "dtype: int64\n",
      "\n",
      "=== VAL (15) ===\n",
      "Littering / Garbage         9\n",
      "Damaged Road Surface        3\n",
      "Illegal Parking             3\n",
      "Pothole                     1\n",
      "Broken/Damaged Road Sign    0\n",
      "Vandalism / Graffiti        0\n",
      "None of the above           0\n",
      "dtype: int64\n",
      "\n",
      "=== TEST (16) ===\n",
      "Littering / Garbage         9\n",
      "Damaged Road Surface        4\n",
      "Illegal Parking             3\n",
      "Pothole                     2\n",
      "Broken/Damaged Road Sign    0\n",
      "Vandalism / Graffiti        0\n",
      "None of the above           0\n",
      "dtype: int64\n"
     ]
    }
   ],
   "source": [
    "\n",
    "# 3) Quick sanity check: label frequencies per split\n",
    "import pandas as pd\n",
    "from pathlib import Path\n",
    "\n",
    "OUT = Path(\"labels/splits\")\n",
    "for name in [\"train\",\"val\",\"test\"]:\n",
    "    df = pd.read_csv(OUT / f\"{name}.csv\")\n",
    "    label_cols = [c for c in df.columns if c != \"path\"]\n",
    "    counts = df[label_cols].sum().sort_values(ascending=False)\n",
    "    print(f\"\\n=== {name.upper()} ({len(df)}) ===\")\n",
    "    print(counts)\n"
   ]
  },
  {
   "cell_type": "code",
   "execution_count": null,
   "id": "013d14a6",
   "metadata": {},
   "outputs": [],
   "source": []
  }
 ],
 "metadata": {
  "kernelspec": {
   "display_name": "classifyvenv",
   "language": "python",
   "name": "python3"
  },
  "language_info": {
   "codemirror_mode": {
    "name": "ipython",
    "version": 3
   },
   "file_extension": ".py",
   "mimetype": "text/x-python",
   "name": "python",
   "nbconvert_exporter": "python",
   "pygments_lexer": "ipython3",
   "version": "3.13.5"
  }
 },
 "nbformat": 4,
 "nbformat_minor": 5
}
